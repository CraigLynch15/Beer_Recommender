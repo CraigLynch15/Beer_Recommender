{
 "cells": [
  {
   "cell_type": "code",
   "execution_count": 2,
   "metadata": {
    "executionInfo": {
     "elapsed": 226,
     "status": "ok",
     "timestamp": 1630973875900,
     "user": {
      "displayName": "Craig Lynch",
      "photoUrl": "",
      "userId": "01836255586579545796"
     },
     "user_tz": 360
    },
    "id": "TGrMd60jkbMJ"
   },
   "outputs": [],
   "source": [
    "import numpy as np\n",
    "import pandas as pd\n",
    "import matplotlib.pyplot as plt\n",
    "import warnings\n",
    "warnings.filterwarnings('ignore')\n",
    "from sklearn.metrics.pairwise import linear_kernel, cosine_similarity\n",
    "from scipy.sparse import csr_matrix\n",
    "from sklearn.neighbors import NearestNeighbors\n",
    "import random\n",
    "import pickle"
   ]
  },
  {
   "cell_type": "code",
   "execution_count": 3,
   "metadata": {
    "colab": {
     "base_uri": "https://localhost:8080/"
    },
    "executionInfo": {
     "elapsed": 54226,
     "status": "ok",
     "timestamp": 1630973930117,
     "user": {
      "displayName": "Craig Lynch",
      "photoUrl": "",
      "userId": "01836255586579545796"
     },
     "user_tz": 360
    },
    "id": "12ijbmWNkkIc",
    "outputId": "2f7cd035-4872-4e5f-fa73-6d8e167863e6"
   },
   "outputs": [
    {
     "name": "stdout",
     "output_type": "stream",
     "text": [
      "Mounted at /content/drive\n"
     ]
    }
   ],
   "source": [
    "from google.colab import drive\n",
    "drive.mount('/content/drive')\n",
    "data_read = pd.read_csv('/content/drive/My Drive/LHL_Final_Project/Written_Reviews/Beer_Recommendations_EDA_V01.csv')"
   ]
  },
  {
   "cell_type": "code",
   "execution_count": 4,
   "metadata": {
    "colab": {
     "base_uri": "https://localhost:8080/",
     "height": 1000
    },
    "executionInfo": {
     "elapsed": 24341,
     "status": "ok",
     "timestamp": 1630973954440,
     "user": {
      "displayName": "Craig Lynch",
      "photoUrl": "",
      "userId": "01836255586579545796"
     },
     "user_tz": 360
    },
    "id": "ow4mw82jl4U2",
    "outputId": "e6698633-9d7b-4e46-81b3-91a31c55c706"
   },
   "outputs": [
    {
     "name": "stdout",
     "output_type": "stream",
     "text": [
      "Collecting streamlit\n",
      "  Downloading streamlit-0.88.0-py2.py3-none-any.whl (8.0 MB)\n",
      "\u001b[K     |████████████████████████████████| 8.0 MB 9.0 MB/s \n",
      "\u001b[?25hCollecting watchdog\n",
      "  Downloading watchdog-2.1.5-py3-none-manylinux2014_x86_64.whl (75 kB)\n",
      "\u001b[K     |████████████████████████████████| 75 kB 213 kB/s \n",
      "\u001b[?25hCollecting gitpython!=3.1.19\n",
      "  Downloading GitPython-3.1.18-py3-none-any.whl (170 kB)\n",
      "\u001b[K     |████████████████████████████████| 170 kB 61.6 MB/s \n",
      "\u001b[?25hCollecting blinker\n",
      "  Downloading blinker-1.4.tar.gz (111 kB)\n",
      "\u001b[K     |████████████████████████████████| 111 kB 73.4 MB/s \n",
      "\u001b[?25hCollecting validators\n",
      "  Downloading validators-0.18.2-py3-none-any.whl (19 kB)\n",
      "Requirement already satisfied: packaging in /usr/local/lib/python3.7/dist-packages (from streamlit) (21.0)\n",
      "Requirement already satisfied: altair>=3.2.0 in /usr/local/lib/python3.7/dist-packages (from streamlit) (4.1.0)\n",
      "Requirement already satisfied: click<8.0,>=7.0 in /usr/local/lib/python3.7/dist-packages (from streamlit) (7.1.2)\n",
      "Collecting base58\n",
      "  Downloading base58-2.1.0-py3-none-any.whl (5.6 kB)\n",
      "Requirement already satisfied: toml in /usr/local/lib/python3.7/dist-packages (from streamlit) (0.10.2)\n",
      "Requirement already satisfied: python-dateutil in /usr/local/lib/python3.7/dist-packages (from streamlit) (2.8.2)\n",
      "Requirement already satisfied: attrs in /usr/local/lib/python3.7/dist-packages (from streamlit) (21.2.0)\n",
      "Requirement already satisfied: pillow>=6.2.0 in /usr/local/lib/python3.7/dist-packages (from streamlit) (7.1.2)\n",
      "Requirement already satisfied: pyarrow in /usr/local/lib/python3.7/dist-packages (from streamlit) (3.0.0)\n",
      "Requirement already satisfied: numpy in /usr/local/lib/python3.7/dist-packages (from streamlit) (1.19.5)\n",
      "Requirement already satisfied: requests in /usr/local/lib/python3.7/dist-packages (from streamlit) (2.23.0)\n",
      "Requirement already satisfied: tornado>=5.0 in /usr/local/lib/python3.7/dist-packages (from streamlit) (5.1.1)\n",
      "Requirement already satisfied: pandas>=0.21.0 in /usr/local/lib/python3.7/dist-packages (from streamlit) (1.1.5)\n",
      "Collecting pydeck>=0.1.dev5\n",
      "  Downloading pydeck-0.7.0-py2.py3-none-any.whl (4.3 MB)\n",
      "\u001b[K     |████████████████████████████████| 4.3 MB 63.7 MB/s \n",
      "\u001b[?25hRequirement already satisfied: astor in /usr/local/lib/python3.7/dist-packages (from streamlit) (0.8.1)\n",
      "Requirement already satisfied: tzlocal in /usr/local/lib/python3.7/dist-packages (from streamlit) (1.5.1)\n",
      "Requirement already satisfied: cachetools>=4.0 in /usr/local/lib/python3.7/dist-packages (from streamlit) (4.2.2)\n",
      "Requirement already satisfied: protobuf!=3.11,>=3.6.0 in /usr/local/lib/python3.7/dist-packages (from streamlit) (3.17.3)\n",
      "Requirement already satisfied: jsonschema in /usr/local/lib/python3.7/dist-packages (from altair>=3.2.0->streamlit) (2.6.0)\n",
      "Requirement already satisfied: jinja2 in /usr/local/lib/python3.7/dist-packages (from altair>=3.2.0->streamlit) (2.11.3)\n",
      "Requirement already satisfied: entrypoints in /usr/local/lib/python3.7/dist-packages (from altair>=3.2.0->streamlit) (0.3)\n",
      "Requirement already satisfied: toolz in /usr/local/lib/python3.7/dist-packages (from altair>=3.2.0->streamlit) (0.11.1)\n",
      "Collecting gitdb<5,>=4.0.1\n",
      "  Downloading gitdb-4.0.7-py3-none-any.whl (63 kB)\n",
      "\u001b[K     |████████████████████████████████| 63 kB 1.9 MB/s \n",
      "\u001b[?25hRequirement already satisfied: typing-extensions>=3.7.4.0 in /usr/local/lib/python3.7/dist-packages (from gitpython!=3.1.19->streamlit) (3.7.4.3)\n",
      "Collecting smmap<5,>=3.0.1\n",
      "  Downloading smmap-4.0.0-py2.py3-none-any.whl (24 kB)\n",
      "Requirement already satisfied: pytz>=2017.2 in /usr/local/lib/python3.7/dist-packages (from pandas>=0.21.0->streamlit) (2018.9)\n",
      "Requirement already satisfied: six>=1.9 in /usr/local/lib/python3.7/dist-packages (from protobuf!=3.11,>=3.6.0->streamlit) (1.15.0)\n",
      "Requirement already satisfied: ipywidgets>=7.0.0 in /usr/local/lib/python3.7/dist-packages (from pydeck>=0.1.dev5->streamlit) (7.6.3)\n",
      "Requirement already satisfied: traitlets>=4.3.2 in /usr/local/lib/python3.7/dist-packages (from pydeck>=0.1.dev5->streamlit) (5.0.5)\n",
      "Collecting ipykernel>=5.1.2\n",
      "  Downloading ipykernel-6.3.1-py3-none-any.whl (123 kB)\n",
      "\u001b[K     |████████████████████████████████| 123 kB 61.4 MB/s \n",
      "\u001b[?25hRequirement already satisfied: matplotlib-inline<0.2.0,>=0.1.0 in /usr/local/lib/python3.7/dist-packages (from ipykernel>=5.1.2->pydeck>=0.1.dev5->streamlit) (0.1.2)\n",
      "Requirement already satisfied: argcomplete>=1.12.3 in /usr/local/lib/python3.7/dist-packages (from ipykernel>=5.1.2->pydeck>=0.1.dev5->streamlit) (1.12.3)\n",
      "Requirement already satisfied: debugpy<2.0,>=1.0.0 in /usr/local/lib/python3.7/dist-packages (from ipykernel>=5.1.2->pydeck>=0.1.dev5->streamlit) (1.0.0)\n",
      "Requirement already satisfied: jupyter-client<8.0 in /usr/local/lib/python3.7/dist-packages (from ipykernel>=5.1.2->pydeck>=0.1.dev5->streamlit) (5.3.5)\n",
      "Requirement already satisfied: ipython-genutils in /usr/local/lib/python3.7/dist-packages (from ipykernel>=5.1.2->pydeck>=0.1.dev5->streamlit) (0.2.0)\n",
      "Requirement already satisfied: importlib-metadata<5 in /usr/local/lib/python3.7/dist-packages (from ipykernel>=5.1.2->pydeck>=0.1.dev5->streamlit) (4.6.4)\n",
      "Collecting ipython<8.0,>=7.23.1\n",
      "  Downloading ipython-7.27.0-py3-none-any.whl (787 kB)\n",
      "\u001b[K     |████████████████████████████████| 787 kB 59.7 MB/s \n",
      "\u001b[?25hRequirement already satisfied: zipp>=0.5 in /usr/local/lib/python3.7/dist-packages (from importlib-metadata<5->ipykernel>=5.1.2->pydeck>=0.1.dev5->streamlit) (3.5.0)\n",
      "Requirement already satisfied: decorator in /usr/local/lib/python3.7/dist-packages (from ipython<8.0,>=7.23.1->ipykernel>=5.1.2->pydeck>=0.1.dev5->streamlit) (4.4.2)\n",
      "Requirement already satisfied: jedi>=0.16 in /usr/local/lib/python3.7/dist-packages (from ipython<8.0,>=7.23.1->ipykernel>=5.1.2->pydeck>=0.1.dev5->streamlit) (0.18.0)\n",
      "Requirement already satisfied: pickleshare in /usr/local/lib/python3.7/dist-packages (from ipython<8.0,>=7.23.1->ipykernel>=5.1.2->pydeck>=0.1.dev5->streamlit) (0.7.5)\n",
      "Collecting prompt-toolkit!=3.0.0,!=3.0.1,<3.1.0,>=2.0.0\n",
      "  Downloading prompt_toolkit-3.0.20-py3-none-any.whl (370 kB)\n",
      "\u001b[K     |████████████████████████████████| 370 kB 71.6 MB/s \n",
      "\u001b[?25hRequirement already satisfied: setuptools>=18.5 in /usr/local/lib/python3.7/dist-packages (from ipython<8.0,>=7.23.1->ipykernel>=5.1.2->pydeck>=0.1.dev5->streamlit) (57.4.0)\n",
      "Requirement already satisfied: pexpect>4.3 in /usr/local/lib/python3.7/dist-packages (from ipython<8.0,>=7.23.1->ipykernel>=5.1.2->pydeck>=0.1.dev5->streamlit) (4.8.0)\n",
      "Requirement already satisfied: pygments in /usr/local/lib/python3.7/dist-packages (from ipython<8.0,>=7.23.1->ipykernel>=5.1.2->pydeck>=0.1.dev5->streamlit) (2.6.1)\n",
      "Requirement already satisfied: backcall in /usr/local/lib/python3.7/dist-packages (from ipython<8.0,>=7.23.1->ipykernel>=5.1.2->pydeck>=0.1.dev5->streamlit) (0.2.0)\n",
      "Requirement already satisfied: jupyterlab-widgets>=1.0.0 in /usr/local/lib/python3.7/dist-packages (from ipywidgets>=7.0.0->pydeck>=0.1.dev5->streamlit) (1.0.0)\n",
      "Requirement already satisfied: widgetsnbextension~=3.5.0 in /usr/local/lib/python3.7/dist-packages (from ipywidgets>=7.0.0->pydeck>=0.1.dev5->streamlit) (3.5.1)\n",
      "Requirement already satisfied: nbformat>=4.2.0 in /usr/local/lib/python3.7/dist-packages (from ipywidgets>=7.0.0->pydeck>=0.1.dev5->streamlit) (5.1.3)\n",
      "Requirement already satisfied: parso<0.9.0,>=0.8.0 in /usr/local/lib/python3.7/dist-packages (from jedi>=0.16->ipython<8.0,>=7.23.1->ipykernel>=5.1.2->pydeck>=0.1.dev5->streamlit) (0.8.2)\n",
      "Requirement already satisfied: MarkupSafe>=0.23 in /usr/local/lib/python3.7/dist-packages (from jinja2->altair>=3.2.0->streamlit) (2.0.1)\n",
      "Requirement already satisfied: pyzmq>=13 in /usr/local/lib/python3.7/dist-packages (from jupyter-client<8.0->ipykernel>=5.1.2->pydeck>=0.1.dev5->streamlit) (22.2.1)\n",
      "Requirement already satisfied: jupyter-core>=4.6.0 in /usr/local/lib/python3.7/dist-packages (from jupyter-client<8.0->ipykernel>=5.1.2->pydeck>=0.1.dev5->streamlit) (4.7.1)\n",
      "Requirement already satisfied: ptyprocess>=0.5 in /usr/local/lib/python3.7/dist-packages (from pexpect>4.3->ipython<8.0,>=7.23.1->ipykernel>=5.1.2->pydeck>=0.1.dev5->streamlit) (0.7.0)\n",
      "Requirement already satisfied: wcwidth in /usr/local/lib/python3.7/dist-packages (from prompt-toolkit!=3.0.0,!=3.0.1,<3.1.0,>=2.0.0->ipython<8.0,>=7.23.1->ipykernel>=5.1.2->pydeck>=0.1.dev5->streamlit) (0.2.5)\n",
      "Requirement already satisfied: notebook>=4.4.1 in /usr/local/lib/python3.7/dist-packages (from widgetsnbextension~=3.5.0->ipywidgets>=7.0.0->pydeck>=0.1.dev5->streamlit) (5.3.1)\n",
      "Requirement already satisfied: Send2Trash in /usr/local/lib/python3.7/dist-packages (from notebook>=4.4.1->widgetsnbextension~=3.5.0->ipywidgets>=7.0.0->pydeck>=0.1.dev5->streamlit) (1.8.0)\n",
      "Requirement already satisfied: nbconvert in /usr/local/lib/python3.7/dist-packages (from notebook>=4.4.1->widgetsnbextension~=3.5.0->ipywidgets>=7.0.0->pydeck>=0.1.dev5->streamlit) (5.6.1)\n",
      "Requirement already satisfied: terminado>=0.8.1 in /usr/local/lib/python3.7/dist-packages (from notebook>=4.4.1->widgetsnbextension~=3.5.0->ipywidgets>=7.0.0->pydeck>=0.1.dev5->streamlit) (0.11.0)\n",
      "Requirement already satisfied: bleach in /usr/local/lib/python3.7/dist-packages (from nbconvert->notebook>=4.4.1->widgetsnbextension~=3.5.0->ipywidgets>=7.0.0->pydeck>=0.1.dev5->streamlit) (4.0.0)\n",
      "Requirement already satisfied: pandocfilters>=1.4.1 in /usr/local/lib/python3.7/dist-packages (from nbconvert->notebook>=4.4.1->widgetsnbextension~=3.5.0->ipywidgets>=7.0.0->pydeck>=0.1.dev5->streamlit) (1.4.3)\n",
      "Requirement already satisfied: testpath in /usr/local/lib/python3.7/dist-packages (from nbconvert->notebook>=4.4.1->widgetsnbextension~=3.5.0->ipywidgets>=7.0.0->pydeck>=0.1.dev5->streamlit) (0.5.0)\n",
      "Requirement already satisfied: defusedxml in /usr/local/lib/python3.7/dist-packages (from nbconvert->notebook>=4.4.1->widgetsnbextension~=3.5.0->ipywidgets>=7.0.0->pydeck>=0.1.dev5->streamlit) (0.7.1)\n",
      "Requirement already satisfied: mistune<2,>=0.8.1 in /usr/local/lib/python3.7/dist-packages (from nbconvert->notebook>=4.4.1->widgetsnbextension~=3.5.0->ipywidgets>=7.0.0->pydeck>=0.1.dev5->streamlit) (0.8.4)\n",
      "Requirement already satisfied: webencodings in /usr/local/lib/python3.7/dist-packages (from bleach->nbconvert->notebook>=4.4.1->widgetsnbextension~=3.5.0->ipywidgets>=7.0.0->pydeck>=0.1.dev5->streamlit) (0.5.1)\n",
      "Requirement already satisfied: pyparsing>=2.0.2 in /usr/local/lib/python3.7/dist-packages (from packaging->streamlit) (2.4.7)\n",
      "Requirement already satisfied: chardet<4,>=3.0.2 in /usr/local/lib/python3.7/dist-packages (from requests->streamlit) (3.0.4)\n",
      "Requirement already satisfied: idna<3,>=2.5 in /usr/local/lib/python3.7/dist-packages (from requests->streamlit) (2.10)\n",
      "Requirement already satisfied: certifi>=2017.4.17 in /usr/local/lib/python3.7/dist-packages (from requests->streamlit) (2021.5.30)\n",
      "Requirement already satisfied: urllib3!=1.25.0,!=1.25.1,<1.26,>=1.21.1 in /usr/local/lib/python3.7/dist-packages (from requests->streamlit) (1.24.3)\n",
      "Building wheels for collected packages: blinker\n",
      "  Building wheel for blinker (setup.py) ... \u001b[?25l\u001b[?25hdone\n",
      "  Created wheel for blinker: filename=blinker-1.4-py3-none-any.whl size=13478 sha256=c30cd841eee16a24524e98ec3aa69709333be446923726e433d85b08a0028d57\n",
      "  Stored in directory: /root/.cache/pip/wheels/22/f5/18/df711b66eb25b21325c132757d4314db9ac5e8dabeaf196eab\n",
      "Successfully built blinker\n",
      "Installing collected packages: prompt-toolkit, ipython, ipykernel, smmap, gitdb, watchdog, validators, pydeck, gitpython, blinker, base58, streamlit\n",
      "  Attempting uninstall: prompt-toolkit\n",
      "    Found existing installation: prompt-toolkit 1.0.18\n",
      "    Uninstalling prompt-toolkit-1.0.18:\n",
      "      Successfully uninstalled prompt-toolkit-1.0.18\n",
      "  Attempting uninstall: ipython\n",
      "    Found existing installation: ipython 5.5.0\n",
      "    Uninstalling ipython-5.5.0:\n",
      "      Successfully uninstalled ipython-5.5.0\n",
      "  Attempting uninstall: ipykernel\n",
      "    Found existing installation: ipykernel 4.10.1\n",
      "    Uninstalling ipykernel-4.10.1:\n",
      "      Successfully uninstalled ipykernel-4.10.1\n",
      "\u001b[31mERROR: pip's dependency resolver does not currently take into account all the packages that are installed. This behaviour is the source of the following dependency conflicts.\n",
      "jupyter-console 5.2.0 requires prompt-toolkit<2.0.0,>=1.0.0, but you have prompt-toolkit 3.0.20 which is incompatible.\n",
      "google-colab 1.0.0 requires ipykernel~=4.10, but you have ipykernel 6.3.1 which is incompatible.\n",
      "google-colab 1.0.0 requires ipython~=5.5.0, but you have ipython 7.27.0 which is incompatible.\u001b[0m\n",
      "Successfully installed base58-2.1.0 blinker-1.4 gitdb-4.0.7 gitpython-3.1.18 ipykernel-6.3.1 ipython-7.27.0 prompt-toolkit-3.0.20 pydeck-0.7.0 smmap-4.0.0 streamlit-0.88.0 validators-0.18.2 watchdog-2.1.5\n"
     ]
    },
    {
     "data": {
      "application/vnd.colab-display-data+json": {
       "pip_warning": {
        "packages": [
         "IPython",
         "ipykernel",
         "prompt_toolkit"
        ]
       }
      }
     },
     "metadata": {},
     "output_type": "display_data"
    },
    {
     "name": "stdout",
     "output_type": "stream",
     "text": [
      "Collecting pyngrok\n",
      "  Downloading pyngrok-5.1.0.tar.gz (745 kB)\n",
      "\u001b[?25l\r",
      "\u001b[K     |▍                               | 10 kB 24.0 MB/s eta 0:00:01\r",
      "\u001b[K     |▉                               | 20 kB 28.9 MB/s eta 0:00:01\r",
      "\u001b[K     |█▎                              | 30 kB 26.3 MB/s eta 0:00:01\r",
      "\u001b[K     |█▊                              | 40 kB 20.2 MB/s eta 0:00:01\r",
      "\u001b[K     |██▏                             | 51 kB 8.6 MB/s eta 0:00:01\r",
      "\u001b[K     |██▋                             | 61 kB 9.8 MB/s eta 0:00:01\r",
      "\u001b[K     |███                             | 71 kB 9.3 MB/s eta 0:00:01\r",
      "\u001b[K     |███▌                            | 81 kB 10.3 MB/s eta 0:00:01\r",
      "\u001b[K     |████                            | 92 kB 10.9 MB/s eta 0:00:01\r",
      "\u001b[K     |████▍                           | 102 kB 8.3 MB/s eta 0:00:01\r",
      "\u001b[K     |████▉                           | 112 kB 8.3 MB/s eta 0:00:01\r",
      "\u001b[K     |█████▎                          | 122 kB 8.3 MB/s eta 0:00:01\r",
      "\u001b[K     |█████▊                          | 133 kB 8.3 MB/s eta 0:00:01\r",
      "\u001b[K     |██████▏                         | 143 kB 8.3 MB/s eta 0:00:01\r",
      "\u001b[K     |██████▋                         | 153 kB 8.3 MB/s eta 0:00:01\r",
      "\u001b[K     |███████                         | 163 kB 8.3 MB/s eta 0:00:01\r",
      "\u001b[K     |███████▌                        | 174 kB 8.3 MB/s eta 0:00:01\r",
      "\u001b[K     |████████                        | 184 kB 8.3 MB/s eta 0:00:01\r",
      "\u001b[K     |████████▍                       | 194 kB 8.3 MB/s eta 0:00:01\r",
      "\u001b[K     |████████▉                       | 204 kB 8.3 MB/s eta 0:00:01\r",
      "\u001b[K     |█████████▎                      | 215 kB 8.3 MB/s eta 0:00:01\r",
      "\u001b[K     |█████████▊                      | 225 kB 8.3 MB/s eta 0:00:01\r",
      "\u001b[K     |██████████▏                     | 235 kB 8.3 MB/s eta 0:00:01\r",
      "\u001b[K     |██████████▌                     | 245 kB 8.3 MB/s eta 0:00:01\r",
      "\u001b[K     |███████████                     | 256 kB 8.3 MB/s eta 0:00:01\r",
      "\u001b[K     |███████████▍                    | 266 kB 8.3 MB/s eta 0:00:01\r",
      "\u001b[K     |███████████▉                    | 276 kB 8.3 MB/s eta 0:00:01\r",
      "\u001b[K     |████████████▎                   | 286 kB 8.3 MB/s eta 0:00:01\r",
      "\u001b[K     |████████████▊                   | 296 kB 8.3 MB/s eta 0:00:01\r",
      "\u001b[K     |█████████████▏                  | 307 kB 8.3 MB/s eta 0:00:01\r",
      "\u001b[K     |█████████████▋                  | 317 kB 8.3 MB/s eta 0:00:01\r",
      "\u001b[K     |██████████████                  | 327 kB 8.3 MB/s eta 0:00:01\r",
      "\u001b[K     |██████████████▌                 | 337 kB 8.3 MB/s eta 0:00:01\r",
      "\u001b[K     |███████████████                 | 348 kB 8.3 MB/s eta 0:00:01\r",
      "\u001b[K     |███████████████▍                | 358 kB 8.3 MB/s eta 0:00:01\r",
      "\u001b[K     |███████████████▉                | 368 kB 8.3 MB/s eta 0:00:01\r",
      "\u001b[K     |████████████████▎               | 378 kB 8.3 MB/s eta 0:00:01\r",
      "\u001b[K     |████████████████▊               | 389 kB 8.3 MB/s eta 0:00:01\r",
      "\u001b[K     |█████████████████▏              | 399 kB 8.3 MB/s eta 0:00:01\r",
      "\u001b[K     |█████████████████▋              | 409 kB 8.3 MB/s eta 0:00:01\r",
      "\u001b[K     |██████████████████              | 419 kB 8.3 MB/s eta 0:00:01\r",
      "\u001b[K     |██████████████████▌             | 430 kB 8.3 MB/s eta 0:00:01\r",
      "\u001b[K     |███████████████████             | 440 kB 8.3 MB/s eta 0:00:01\r",
      "\u001b[K     |███████████████████▍            | 450 kB 8.3 MB/s eta 0:00:01\r",
      "\u001b[K     |███████████████████▉            | 460 kB 8.3 MB/s eta 0:00:01\r",
      "\u001b[K     |████████████████████▎           | 471 kB 8.3 MB/s eta 0:00:01\r",
      "\u001b[K     |████████████████████▋           | 481 kB 8.3 MB/s eta 0:00:01\r",
      "\u001b[K     |█████████████████████           | 491 kB 8.3 MB/s eta 0:00:01\r",
      "\u001b[K     |█████████████████████▌          | 501 kB 8.3 MB/s eta 0:00:01\r",
      "\u001b[K     |██████████████████████          | 512 kB 8.3 MB/s eta 0:00:01\r",
      "\u001b[K     |██████████████████████▍         | 522 kB 8.3 MB/s eta 0:00:01\r",
      "\u001b[K     |██████████████████████▉         | 532 kB 8.3 MB/s eta 0:00:01\r",
      "\u001b[K     |███████████████████████▎        | 542 kB 8.3 MB/s eta 0:00:01\r",
      "\u001b[K     |███████████████████████▊        | 552 kB 8.3 MB/s eta 0:00:01\r",
      "\u001b[K     |████████████████████████▏       | 563 kB 8.3 MB/s eta 0:00:01\r",
      "\u001b[K     |████████████████████████▋       | 573 kB 8.3 MB/s eta 0:00:01\r",
      "\u001b[K     |█████████████████████████       | 583 kB 8.3 MB/s eta 0:00:01\r",
      "\u001b[K     |█████████████████████████▌      | 593 kB 8.3 MB/s eta 0:00:01\r",
      "\u001b[K     |██████████████████████████      | 604 kB 8.3 MB/s eta 0:00:01\r",
      "\u001b[K     |██████████████████████████▍     | 614 kB 8.3 MB/s eta 0:00:01\r",
      "\u001b[K     |██████████████████████████▉     | 624 kB 8.3 MB/s eta 0:00:01\r",
      "\u001b[K     |███████████████████████████▎    | 634 kB 8.3 MB/s eta 0:00:01\r",
      "\u001b[K     |███████████████████████████▊    | 645 kB 8.3 MB/s eta 0:00:01\r",
      "\u001b[K     |████████████████████████████▏   | 655 kB 8.3 MB/s eta 0:00:01\r",
      "\u001b[K     |████████████████████████████▋   | 665 kB 8.3 MB/s eta 0:00:01\r",
      "\u001b[K     |█████████████████████████████   | 675 kB 8.3 MB/s eta 0:00:01\r",
      "\u001b[K     |█████████████████████████████▌  | 686 kB 8.3 MB/s eta 0:00:01\r",
      "\u001b[K     |██████████████████████████████  | 696 kB 8.3 MB/s eta 0:00:01\r",
      "\u001b[K     |██████████████████████████████▍ | 706 kB 8.3 MB/s eta 0:00:01\r",
      "\u001b[K     |██████████████████████████████▊ | 716 kB 8.3 MB/s eta 0:00:01\r",
      "\u001b[K     |███████████████████████████████▏| 727 kB 8.3 MB/s eta 0:00:01\r",
      "\u001b[K     |███████████████████████████████▋| 737 kB 8.3 MB/s eta 0:00:01\r",
      "\u001b[K     |████████████████████████████████| 745 kB 8.3 MB/s \n",
      "\u001b[?25hRequirement already satisfied: PyYAML in /usr/local/lib/python3.7/dist-packages (from pyngrok) (3.13)\n",
      "Building wheels for collected packages: pyngrok\n",
      "  Building wheel for pyngrok (setup.py) ... \u001b[?25l\u001b[?25hdone\n",
      "  Created wheel for pyngrok: filename=pyngrok-5.1.0-py3-none-any.whl size=19006 sha256=f86c6b2322af067ade64bbffc20083191dc4782b68d7a81eb1ad292d0b4af61a\n",
      "  Stored in directory: /root/.cache/pip/wheels/bf/e6/af/ccf6598ecefecd44104069371795cb9b3afbcd16987f6ccfb3\n",
      "Successfully built pyngrok\n",
      "Installing collected packages: pyngrok\n",
      "Successfully installed pyngrok-5.1.0\n"
     ]
    }
   ],
   "source": [
    "!pip install streamlit\n",
    "!pip install pyngrok"
   ]
  },
  {
   "cell_type": "code",
   "execution_count": 4,
   "metadata": {
    "executionInfo": {
     "elapsed": 107,
     "status": "ok",
     "timestamp": 1630973954441,
     "user": {
      "displayName": "Craig Lynch",
      "photoUrl": "",
      "userId": "01836255586579545796"
     },
     "user_tz": 360
    },
    "id": "wTEFq2IqqOnd"
   },
   "outputs": [],
   "source": []
  },
  {
   "cell_type": "code",
   "execution_count": 22,
   "metadata": {
    "colab": {
     "base_uri": "https://localhost:8080/"
    },
    "executionInfo": {
     "elapsed": 173,
     "status": "ok",
     "timestamp": 1630983619078,
     "user": {
      "displayName": "Craig Lynch",
      "photoUrl": "",
      "userId": "01836255586579545796"
     },
     "user_tz": 360
    },
    "id": "kkQ3baXtlWNc",
    "outputId": "5b144d55-2080-41f2-9953-58fd20930014"
   },
   "outputs": [
    {
     "name": "stdout",
     "output_type": "stream",
     "text": [
      "Overwriting item.py\n"
     ]
    }
   ],
   "source": [
    "%%writefile item.py\n",
    "from scipy.sparse import csr_matrix\n",
    "from sklearn.neighbors import NearestNeighbors\n",
    "import random\n",
    "import numpy as np\n",
    "import pandas as pd\n",
    "import warnings\n",
    "warnings.filterwarnings('ignore')\n",
    "from sklearn.metrics.pairwise import linear_kernel, cosine_similarity\n",
    "\n",
    "from google.colab import drive\n",
    "drive.mount('/content/drive')\n",
    "data_read = pd.read_csv('/content/drive/My Drive/LHL_Final_Project/Written_Reviews/Beer_Recommendations_EDA_V01.csv')\n",
    "# User 10% of the dataset for testing\n",
    "df_item_based = data_read.sample(frac=0.10, random_state=42)\n",
    "\n",
    "\n",
    "import streamlit as st\n",
    "st.set_page_config(layout=\"wide\") \n",
    "st.header('Beer Recommendation App - Collaboration Filter')\n",
    "st.write('This app was built to help you expand your beer horizons')\n",
    "st.write('Data obtained from https://www.kaggle.com/ehallmar/beers-breweries-and-beer-reviews')\n",
    "\n",
    "beer1 = 'Molson Canadian Lager'\n",
    "beer2 = 'Guinness Extra Stout Original'\n",
    "beer3 = 'Blue Moon Belgian White'\n",
    "beer4 = '90 Minute IPA'\n",
    "beer5 = 'Nut Brown Ale'\n",
    "beer6 = 'Smoked Porter'\n",
    "beer7 = 'Gose'\n",
    "\n",
    "\n",
    "\n",
    "# User input for new beer\n",
    "st.title('Rate these beer on a scale of 0-5. If you have not tried one, rate how interested you are in trying it:')\n",
    "with st.form(key='form1'):\n",
    "  st.write('Molson Canadian Lager')\n",
    "  rating1 = st.slider(\"Rating\", min_value=0.0, max_value=5.0, step=0.25,key='1')\n",
    "  st.write('Guinness Extra Stout Original')\n",
    "  rating2 = st.slider(\"Rating\", min_value=0.0, max_value=5.0, step=0.25,key='2')\n",
    "  st.write('Blue Moon Belgian White')\n",
    "  rating3 = st.slider(\"Rating\", min_value=0.0, max_value=5.0, step=0.25,key='3')\n",
    "  st.write('90 Minute IPA')\n",
    "  rating4 = st.slider(\"Rating\", min_value=0.0, max_value=5.0, step=0.25,key='4')\n",
    "  st.write('Nut Brown Ale')\n",
    "  rating5 = st.slider(\"Rating\", min_value=0.0, max_value=5.0, step=0.25,key='5')\n",
    "  st.write('Smoked Porter')\n",
    "  rating6 = st.slider(\"Rating\", min_value=0.0, max_value=5.0, step=0.25,key='6')\n",
    "  st.write('Gose')\n",
    "  rating7 = st.slider(\"Rating\", min_value=0.0, max_value=5.0, step=0.25,key='7')\n",
    "  \n",
    "  submit = st.form_submit_button(label = 'Press Here for New Beer!')\n",
    "\n",
    "text = ['the perfect beer for anyone who loves the summer months hanging with friends on patios and pairing anything barbecue with refreshing brews',\n",
    "        'the perfect beer for anyone who loves the bitter flavour of black coffee or a strong grapefruit',\n",
    "        'the perfect beer for anyone who loves coffee-crisp purposely burnt marshmallows and other bold rich flavours',\n",
    "        'the perfect beer for anyone who loves dried fruit Werther’s Original candy bold flavours and just a pinch of sweet flavours',\n",
    "        'the perfect beer for anyone who loves scotch campfires and smoked meats smoky brews can be enjoyed all year round',\n",
    "        'the perfect beer for anyone whos morning routine consists of chugging a glass of orange juice or anyone who never says when when the waiter is adding pepper to your meal',\n",
    "        'the perfect beers for anyone who drinks green tea in the morning instead of coffee puts cucumber in their water to give it flavour or is semi-addicted to sour penny candies']\n",
    "\n",
    "user = [(beer1,rating1),(beer2,rating2),(beer3,rating3),(beer4,rating4),(beer5,rating5),(beer6,rating6),(beer7,rating7)]\n",
    "user = pd.DataFrame(user, columns = ['beer_name', 'user_overall_score'])\n",
    "\n",
    "user['brewery_name'] =  pd.np.where(user.beer_name.str.contains(\"Canadian\"), 'Molson Coors Canada',\n",
    "                        pd.np.where(user.beer_name.str.contains(\"Guinness\"), 'Guinness Ltd',\n",
    "                        pd.np.where(user.beer_name.str.contains(\"Blue Moon\"), 'Coors Brewing Company MolsonCoors',\n",
    "                        pd.np.where(user.beer_name.str.contains(\"90 Minute\"), 'Dogfish Head Craft Brewery',\n",
    "                        pd.np.where(user.beer_name.str.contains(\"Nut Brown Ale\"), 'Samuel Smith Old Brewery Tadcaster',\n",
    "                        pd.np.where(user.beer_name.str.contains(\"Smoked Porter\"), 'Alaskan Brewing Co Alaskan',\n",
    "                        pd.np.where(user.beer_name.str.contains(\"Flemish\"), 'Brouwerij Van Steenberge NV', 'Westbrook Brewing Co')))))))\n",
    "\n",
    "user['beer_id'] = pd.np.where(user.beer_name.str.contains(\"Canadian\"), '1312.0',\n",
    "                  pd.np.where(user.beer_name.str.contains(\"Guinness\"), '650.0',\n",
    "                  pd.np.where(user.beer_name.str.contains(\"Blue Moon\"), '1212.0',\n",
    "                  pd.np.where(user.beer_name.str.contains(\"90 Minute\"), '2093.0',\n",
    "                  pd.np.where(user.beer_name.str.contains(\"Nut Brown Ale\"), '576.0',\n",
    "                  pd.np.where(user.beer_name.str.contains(\"Smoked Porter\"), '90.0',\n",
    "                  pd.np.where(user.beer_name.str.contains(\"Flemish\"), '10482.0', '133043.0')))))))\n",
    "\n",
    "user['text'] = pd.np.where(user.beer_name.str.contains(\"Lager\"), text[0],\n",
    "               pd.np.where(user.beer_name.str.contains(\"IPA\"), text[1],\n",
    "               pd.np.where(user.beer_name.str.contains(\"Stout\"), text[2],\n",
    "               pd.np.where(user.beer_name.str.contains(\"Brown Ale\"), text[3],\n",
    "               pd.np.where(user.beer_name.str.contains(\"Smoke\"), text[4],\n",
    "               pd.np.where(user.beer_name.str.contains(\"White\"), text[5], text[6]))))))\n",
    "\n",
    "new_ratings_df = df_item_based.append(user,ignore_index=True)\n",
    "new_ratings_df = new_ratings_df.fillna(0)\n",
    "new_ratings_df = new_ratings_df[['username','Name','user_overall_score']]\n",
    "new_ratings_df['user_overall_score'] = new_ratings_df['user_overall_score'].astype(float, errors = 'raise')\n",
    "ratings = new_ratings_df.pivot_table(index='username', columns='Name', values='user_overall_score')\n",
    "ratings.fillna(0,inplace=True)\n",
    "\n",
    "# Removing sparsity \n",
    "csr_ratings = csr_matrix(ratings.values)\n",
    "# Standardize the mean of each user to 0, and correct for harsh/lenient users\n",
    "def standardize(row):\n",
    "  new_row = (row - row.mean()) / (row.max() - row.min())\n",
    "  return new_row\n",
    "\n",
    "ratings_std = ratings.apply(standardize)\n",
    "\n",
    "# For item-to-item Similarity\n",
    "item_similarity = cosine_similarity(ratings_std.T)\n",
    "item_similarity_df = pd.DataFrame(item_similarity,index=ratings_std.columns, columns=ratings_std.columns)\n",
    "\n",
    "\n",
    "\n",
    "def get_similar_beer(beer_name,user_rating):\n",
    "  similar_score = item_similarity_df[beer_name]*(user_rating - 2.5)\n",
    "  similar_score = similar_score.sort_values(ascending = False)\n",
    "  return similar_score\n",
    "\n",
    "# Using user input beer\n",
    "user['Name'] = user['brewery_name']+' '+user['beer_name']\n",
    "new_user = user[['Name', 'user_overall_score']]\n",
    "new_user_list = new_user.to_records(index=False).tolist()\n",
    "\n",
    "similar_beer = pd.DataFrame()\n",
    "\n",
    "for beer, rating in new_user_list:\n",
    "  similar_beer = similar_beer.append(get_similar_beer(beer,rating))\n",
    "  x = similar_beer.sum().sort_values(ascending= False)\n",
    "  x = pd.DataFrame(x).reset_index()\n",
    "  x = x.rename(columns={'index': 'Name',0:'Score'})\n",
    "  y = pd.DataFrame(new_user_list)\n",
    "  y = y.rename(columns={0: 'Name',1:'Score'})\n",
    "  x = x[~x['Name'].isin(y['Name'])]\n",
    "  \n",
    "# top_choices = x.head(10)\n",
    "# bottom_choices = x.tail(1)\n",
    "st.write('Top Beer Choices')\n",
    "st.write(x['Name'].head(10))\n",
    "st.write('Or Maybe Something Completely Different')\n",
    "st.write(x['Name'].tail(1))"
   ]
  },
  {
   "cell_type": "code",
   "execution_count": 23,
   "metadata": {
    "colab": {
     "base_uri": "https://localhost:8080/"
    },
    "executionInfo": {
     "elapsed": 160,
     "status": "ok",
     "timestamp": 1630983620571,
     "user": {
      "displayName": "Craig Lynch",
      "photoUrl": "",
      "userId": "01836255586579545796"
     },
     "user_tz": 360
    },
    "id": "kYG57KSAoajC",
    "outputId": "f398e08e-747a-493e-b745-852f45f12422"
   },
   "outputs": [
    {
     "name": "stdout",
     "output_type": "stream",
     "text": [
      "drive  item.py\tsample_data\n"
     ]
    }
   ],
   "source": [
    "!ls"
   ]
  },
  {
   "cell_type": "markdown",
   "metadata": {},
   "source": [
    "# Insert ngrok authtoken"
   ]
  },
  {
   "cell_type": "code",
   "execution_count": 24,
   "metadata": {
    "colab": {
     "base_uri": "https://localhost:8080/"
    },
    "executionInfo": {
     "elapsed": 1004,
     "status": "ok",
     "timestamp": 1630983622596,
     "user": {
      "displayName": "Craig Lynch",
      "photoUrl": "",
      "userId": "01836255586579545796"
     },
     "user_tz": 360
    },
    "id": "SrEjmHqaoalO",
    "outputId": "b939bb80-4803-4123-d5eb-97786a2f64cc"
   },
   "outputs": [
    {
     "name": "stdout",
     "output_type": "stream",
     "text": [
      "Authtoken saved to configuration file: /root/.ngrok2/ngrok.yml\n"
     ]
    },
    {
     "data": {
      "text/plain": [
       "<NgrokTunnel: \"http://3a0f-34-125-220-192.ngrok.io\" -> \"http://localhost:80\">"
      ]
     },
     "execution_count": 24,
     "metadata": {},
     "output_type": "execute_result"
    }
   ],
   "source": [
    "!ngrok authtoken XXXXXXXXXXXXXXXXXXXXXXXXX\n",
    "from pyngrok import ngrok\n",
    "!streamlit run --server.port 80 item.py&>/dev/null&\n",
    "#publ_url = ngrok.connect(port='8501')\n",
    "publ_url = ngrok.connect(port='80')\n",
    "publ_url "
   ]
  },
  {
   "cell_type": "code",
   "execution_count": 7,
   "metadata": {
    "executionInfo": {
     "elapsed": 31,
     "status": "ok",
     "timestamp": 1630973960113,
     "user": {
      "displayName": "Craig Lynch",
      "photoUrl": "",
      "userId": "01836255586579545796"
     },
     "user_tz": 360
    },
    "id": "8SNowpLXoapo"
   },
   "outputs": [],
   "source": []
  },
  {
   "cell_type": "code",
   "execution_count": 7,
   "metadata": {
    "executionInfo": {
     "elapsed": 31,
     "status": "ok",
     "timestamp": 1630973960114,
     "user": {
      "displayName": "Craig Lynch",
      "photoUrl": "",
      "userId": "01836255586579545796"
     },
     "user_tz": 360
    },
    "id": "GLny4JS1oaru"
   },
   "outputs": [],
   "source": []
  },
  {
   "cell_type": "code",
   "execution_count": 25,
   "metadata": {
    "executionInfo": {
     "elapsed": 151,
     "status": "ok",
     "timestamp": 1630983672780,
     "user": {
      "displayName": "Craig Lynch",
      "photoUrl": "",
      "userId": "01836255586579545796"
     },
     "user_tz": 360
    },
    "id": "fIJ-9My8oauj"
   },
   "outputs": [],
   "source": [
    "ngrok.kill()"
   ]
  },
  {
   "cell_type": "code",
   "execution_count": 8,
   "metadata": {
    "executionInfo": {
     "elapsed": 11,
     "status": "ok",
     "timestamp": 1630973960295,
     "user": {
      "displayName": "Craig Lynch",
      "photoUrl": "",
      "userId": "01836255586579545796"
     },
     "user_tz": 360
    },
    "id": "qDU23tSEpvOq"
   },
   "outputs": [],
   "source": []
  }
 ],
 "metadata": {
  "colab": {
   "authorship_tag": "ABX9TyNaH+gf4G2HYDzmbKw9wAhG",
   "collapsed_sections": [],
   "name": "Deploy_CollabFilter_Beer_Recommender_Streamlit_V02.ipynb",
   "provenance": [
    {
     "file_id": "1RdZiNOq4xaFICNAhhKa-IUfjh-CoRx1j",
     "timestamp": 1630812672670
    }
   ]
  },
  "kernelspec": {
   "display_name": "Python 3",
   "language": "python",
   "name": "python3"
  },
  "language_info": {
   "codemirror_mode": {
    "name": "ipython",
    "version": 3
   },
   "file_extension": ".py",
   "mimetype": "text/x-python",
   "name": "python",
   "nbconvert_exporter": "python",
   "pygments_lexer": "ipython3",
   "version": "3.8.2"
  }
 },
 "nbformat": 4,
 "nbformat_minor": 1
}
