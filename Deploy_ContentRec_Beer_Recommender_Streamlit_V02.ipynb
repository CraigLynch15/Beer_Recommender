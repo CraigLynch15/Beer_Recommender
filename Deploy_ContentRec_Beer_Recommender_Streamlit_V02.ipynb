{
 "cells": [
  {
   "cell_type": "code",
   "execution_count": 1,
   "metadata": {
    "colab": {
     "base_uri": "https://localhost:8080/"
    },
    "executionInfo": {
     "elapsed": 2062,
     "status": "ok",
     "timestamp": 1630973821734,
     "user": {
      "displayName": "Craig Lynch",
      "photoUrl": "",
      "userId": "01836255586579545796"
     },
     "user_tz": 360
    },
    "id": "uvgMtP07xcuQ",
    "outputId": "ee857aed-6a8a-44cb-e191-5fea44240a00"
   },
   "outputs": [
    {
     "name": "stderr",
     "output_type": "stream",
     "text": [
      "/usr/local/lib/python3.7/dist-packages/statsmodels/tools/_testing.py:19: FutureWarning: pandas.util.testing is deprecated. Use the functions in the public API at pandas.testing instead.\n",
      "  import pandas.util.testing as tm\n"
     ]
    }
   ],
   "source": [
    "import numpy as np\n",
    "import pandas as pd\n",
    "import matplotlib.pyplot as plt\n",
    "from sklearn.model_selection import train_test_split, cross_val_score\n",
    "from sklearn.metrics import mean_absolute_error\n",
    "from statsmodels.tools.eval_measures import mse, rmse\n",
    "import seaborn as sns\n",
    "from sklearn import neighbors\n",
    "from sklearn.model_selection import cross_val_score\n",
    "from nltk.corpus import stopwords\n",
    "from wordcloud import WordCloud, STOPWORDS\n",
    "import re\n",
    "from nltk import word_tokenize\n",
    "from nltk.stem import WordNetLemmatizer\n",
    "from sklearn.feature_extraction.text import TfidfVectorizer\n",
    "import nltk\n",
    "import warnings\n",
    "warnings.filterwarnings('ignore')"
   ]
  },
  {
   "cell_type": "code",
   "execution_count": 2,
   "metadata": {
    "colab": {
     "base_uri": "https://localhost:8080/",
     "height": 1000
    },
    "executionInfo": {
     "elapsed": 18206,
     "status": "ok",
     "timestamp": 1630973839925,
     "user": {
      "displayName": "Craig Lynch",
      "photoUrl": "",
      "userId": "01836255586579545796"
     },
     "user_tz": 360
    },
    "id": "_CmcTiqsxbOb",
    "outputId": "9aa4ebf4-7edc-47bd-befc-490b47c02ceb"
   },
   "outputs": [
    {
     "name": "stdout",
     "output_type": "stream",
     "text": [
      "Collecting streamlit\n",
      "  Downloading streamlit-0.88.0-py2.py3-none-any.whl (8.0 MB)\n",
      "\u001b[K     |████████████████████████████████| 8.0 MB 8.5 MB/s \n",
      "\u001b[?25hRequirement already satisfied: protobuf!=3.11,>=3.6.0 in /usr/local/lib/python3.7/dist-packages (from streamlit) (3.17.3)\n",
      "Requirement already satisfied: pandas>=0.21.0 in /usr/local/lib/python3.7/dist-packages (from streamlit) (1.1.5)\n",
      "Requirement already satisfied: tornado>=5.0 in /usr/local/lib/python3.7/dist-packages (from streamlit) (5.1.1)\n",
      "Collecting blinker\n",
      "  Downloading blinker-1.4.tar.gz (111 kB)\n",
      "\u001b[K     |████████████████████████████████| 111 kB 66.3 MB/s \n",
      "\u001b[?25hCollecting pydeck>=0.1.dev5\n",
      "  Downloading pydeck-0.7.0-py2.py3-none-any.whl (4.3 MB)\n",
      "\u001b[K     |████████████████████████████████| 4.3 MB 42.9 MB/s \n",
      "\u001b[?25hRequirement already satisfied: astor in /usr/local/lib/python3.7/dist-packages (from streamlit) (0.8.1)\n",
      "Requirement already satisfied: click<8.0,>=7.0 in /usr/local/lib/python3.7/dist-packages (from streamlit) (7.1.2)\n",
      "Requirement already satisfied: tzlocal in /usr/local/lib/python3.7/dist-packages (from streamlit) (1.5.1)\n",
      "Requirement already satisfied: toml in /usr/local/lib/python3.7/dist-packages (from streamlit) (0.10.2)\n",
      "Requirement already satisfied: packaging in /usr/local/lib/python3.7/dist-packages (from streamlit) (21.0)\n",
      "Requirement already satisfied: altair>=3.2.0 in /usr/local/lib/python3.7/dist-packages (from streamlit) (4.1.0)\n",
      "Requirement already satisfied: pillow>=6.2.0 in /usr/local/lib/python3.7/dist-packages (from streamlit) (7.1.2)\n",
      "Collecting validators\n",
      "  Downloading validators-0.18.2-py3-none-any.whl (19 kB)\n",
      "Requirement already satisfied: attrs in /usr/local/lib/python3.7/dist-packages (from streamlit) (21.2.0)\n",
      "Requirement already satisfied: requests in /usr/local/lib/python3.7/dist-packages (from streamlit) (2.23.0)\n",
      "Requirement already satisfied: numpy in /usr/local/lib/python3.7/dist-packages (from streamlit) (1.19.5)\n",
      "Requirement already satisfied: python-dateutil in /usr/local/lib/python3.7/dist-packages (from streamlit) (2.8.2)\n",
      "Collecting gitpython!=3.1.19\n",
      "  Downloading GitPython-3.1.18-py3-none-any.whl (170 kB)\n",
      "\u001b[K     |████████████████████████████████| 170 kB 71.0 MB/s \n",
      "\u001b[?25hCollecting watchdog\n",
      "  Downloading watchdog-2.1.5-py3-none-manylinux2014_x86_64.whl (75 kB)\n",
      "\u001b[K     |████████████████████████████████| 75 kB 3.9 MB/s \n",
      "\u001b[?25hRequirement already satisfied: pyarrow in /usr/local/lib/python3.7/dist-packages (from streamlit) (3.0.0)\n",
      "Requirement already satisfied: cachetools>=4.0 in /usr/local/lib/python3.7/dist-packages (from streamlit) (4.2.2)\n",
      "Collecting base58\n",
      "  Downloading base58-2.1.0-py3-none-any.whl (5.6 kB)\n",
      "Requirement already satisfied: toolz in /usr/local/lib/python3.7/dist-packages (from altair>=3.2.0->streamlit) (0.11.1)\n",
      "Requirement already satisfied: jsonschema in /usr/local/lib/python3.7/dist-packages (from altair>=3.2.0->streamlit) (2.6.0)\n",
      "Requirement already satisfied: jinja2 in /usr/local/lib/python3.7/dist-packages (from altair>=3.2.0->streamlit) (2.11.3)\n",
      "Requirement already satisfied: entrypoints in /usr/local/lib/python3.7/dist-packages (from altair>=3.2.0->streamlit) (0.3)\n",
      "Requirement already satisfied: typing-extensions>=3.7.4.0 in /usr/local/lib/python3.7/dist-packages (from gitpython!=3.1.19->streamlit) (3.7.4.3)\n",
      "Collecting gitdb<5,>=4.0.1\n",
      "  Downloading gitdb-4.0.7-py3-none-any.whl (63 kB)\n",
      "\u001b[K     |████████████████████████████████| 63 kB 2.1 MB/s \n",
      "\u001b[?25hCollecting smmap<5,>=3.0.1\n",
      "  Downloading smmap-4.0.0-py2.py3-none-any.whl (24 kB)\n",
      "Requirement already satisfied: pytz>=2017.2 in /usr/local/lib/python3.7/dist-packages (from pandas>=0.21.0->streamlit) (2018.9)\n",
      "Requirement already satisfied: six>=1.9 in /usr/local/lib/python3.7/dist-packages (from protobuf!=3.11,>=3.6.0->streamlit) (1.15.0)\n",
      "Requirement already satisfied: ipywidgets>=7.0.0 in /usr/local/lib/python3.7/dist-packages (from pydeck>=0.1.dev5->streamlit) (7.6.3)\n",
      "Collecting ipykernel>=5.1.2\n",
      "  Downloading ipykernel-6.3.1-py3-none-any.whl (123 kB)\n",
      "\u001b[K     |████████████████████████████████| 123 kB 69.1 MB/s \n",
      "\u001b[?25hRequirement already satisfied: traitlets>=4.3.2 in /usr/local/lib/python3.7/dist-packages (from pydeck>=0.1.dev5->streamlit) (5.0.5)\n",
      "Requirement already satisfied: argcomplete>=1.12.3 in /usr/local/lib/python3.7/dist-packages (from ipykernel>=5.1.2->pydeck>=0.1.dev5->streamlit) (1.12.3)\n",
      "Requirement already satisfied: matplotlib-inline<0.2.0,>=0.1.0 in /usr/local/lib/python3.7/dist-packages (from ipykernel>=5.1.2->pydeck>=0.1.dev5->streamlit) (0.1.2)\n",
      "Requirement already satisfied: importlib-metadata<5 in /usr/local/lib/python3.7/dist-packages (from ipykernel>=5.1.2->pydeck>=0.1.dev5->streamlit) (4.6.4)\n",
      "Requirement already satisfied: ipython-genutils in /usr/local/lib/python3.7/dist-packages (from ipykernel>=5.1.2->pydeck>=0.1.dev5->streamlit) (0.2.0)\n",
      "Requirement already satisfied: debugpy<2.0,>=1.0.0 in /usr/local/lib/python3.7/dist-packages (from ipykernel>=5.1.2->pydeck>=0.1.dev5->streamlit) (1.0.0)\n",
      "Requirement already satisfied: jupyter-client<8.0 in /usr/local/lib/python3.7/dist-packages (from ipykernel>=5.1.2->pydeck>=0.1.dev5->streamlit) (5.3.5)\n",
      "Collecting ipython<8.0,>=7.23.1\n",
      "  Downloading ipython-7.27.0-py3-none-any.whl (787 kB)\n",
      "\u001b[K     |████████████████████████████████| 787 kB 60.1 MB/s \n",
      "\u001b[?25hRequirement already satisfied: zipp>=0.5 in /usr/local/lib/python3.7/dist-packages (from importlib-metadata<5->ipykernel>=5.1.2->pydeck>=0.1.dev5->streamlit) (3.5.0)\n",
      "Requirement already satisfied: backcall in /usr/local/lib/python3.7/dist-packages (from ipython<8.0,>=7.23.1->ipykernel>=5.1.2->pydeck>=0.1.dev5->streamlit) (0.2.0)\n",
      "Requirement already satisfied: pexpect>4.3 in /usr/local/lib/python3.7/dist-packages (from ipython<8.0,>=7.23.1->ipykernel>=5.1.2->pydeck>=0.1.dev5->streamlit) (4.8.0)\n",
      "Requirement already satisfied: decorator in /usr/local/lib/python3.7/dist-packages (from ipython<8.0,>=7.23.1->ipykernel>=5.1.2->pydeck>=0.1.dev5->streamlit) (4.4.2)\n",
      "Requirement already satisfied: pygments in /usr/local/lib/python3.7/dist-packages (from ipython<8.0,>=7.23.1->ipykernel>=5.1.2->pydeck>=0.1.dev5->streamlit) (2.6.1)\n",
      "Collecting prompt-toolkit!=3.0.0,!=3.0.1,<3.1.0,>=2.0.0\n",
      "  Downloading prompt_toolkit-3.0.20-py3-none-any.whl (370 kB)\n",
      "\u001b[K     |████████████████████████████████| 370 kB 73.0 MB/s \n",
      "\u001b[?25hRequirement already satisfied: jedi>=0.16 in /usr/local/lib/python3.7/dist-packages (from ipython<8.0,>=7.23.1->ipykernel>=5.1.2->pydeck>=0.1.dev5->streamlit) (0.18.0)\n",
      "Requirement already satisfied: pickleshare in /usr/local/lib/python3.7/dist-packages (from ipython<8.0,>=7.23.1->ipykernel>=5.1.2->pydeck>=0.1.dev5->streamlit) (0.7.5)\n",
      "Requirement already satisfied: setuptools>=18.5 in /usr/local/lib/python3.7/dist-packages (from ipython<8.0,>=7.23.1->ipykernel>=5.1.2->pydeck>=0.1.dev5->streamlit) (57.4.0)\n",
      "Requirement already satisfied: widgetsnbextension~=3.5.0 in /usr/local/lib/python3.7/dist-packages (from ipywidgets>=7.0.0->pydeck>=0.1.dev5->streamlit) (3.5.1)\n",
      "Requirement already satisfied: nbformat>=4.2.0 in /usr/local/lib/python3.7/dist-packages (from ipywidgets>=7.0.0->pydeck>=0.1.dev5->streamlit) (5.1.3)\n",
      "Requirement already satisfied: jupyterlab-widgets>=1.0.0 in /usr/local/lib/python3.7/dist-packages (from ipywidgets>=7.0.0->pydeck>=0.1.dev5->streamlit) (1.0.0)\n",
      "Requirement already satisfied: parso<0.9.0,>=0.8.0 in /usr/local/lib/python3.7/dist-packages (from jedi>=0.16->ipython<8.0,>=7.23.1->ipykernel>=5.1.2->pydeck>=0.1.dev5->streamlit) (0.8.2)\n",
      "Requirement already satisfied: MarkupSafe>=0.23 in /usr/local/lib/python3.7/dist-packages (from jinja2->altair>=3.2.0->streamlit) (2.0.1)\n",
      "Requirement already satisfied: pyzmq>=13 in /usr/local/lib/python3.7/dist-packages (from jupyter-client<8.0->ipykernel>=5.1.2->pydeck>=0.1.dev5->streamlit) (22.2.1)\n",
      "Requirement already satisfied: jupyter-core>=4.6.0 in /usr/local/lib/python3.7/dist-packages (from jupyter-client<8.0->ipykernel>=5.1.2->pydeck>=0.1.dev5->streamlit) (4.7.1)\n",
      "Requirement already satisfied: ptyprocess>=0.5 in /usr/local/lib/python3.7/dist-packages (from pexpect>4.3->ipython<8.0,>=7.23.1->ipykernel>=5.1.2->pydeck>=0.1.dev5->streamlit) (0.7.0)\n",
      "Requirement already satisfied: wcwidth in /usr/local/lib/python3.7/dist-packages (from prompt-toolkit!=3.0.0,!=3.0.1,<3.1.0,>=2.0.0->ipython<8.0,>=7.23.1->ipykernel>=5.1.2->pydeck>=0.1.dev5->streamlit) (0.2.5)\n",
      "Requirement already satisfied: notebook>=4.4.1 in /usr/local/lib/python3.7/dist-packages (from widgetsnbextension~=3.5.0->ipywidgets>=7.0.0->pydeck>=0.1.dev5->streamlit) (5.3.1)\n",
      "Requirement already satisfied: terminado>=0.8.1 in /usr/local/lib/python3.7/dist-packages (from notebook>=4.4.1->widgetsnbextension~=3.5.0->ipywidgets>=7.0.0->pydeck>=0.1.dev5->streamlit) (0.11.0)\n",
      "Requirement already satisfied: Send2Trash in /usr/local/lib/python3.7/dist-packages (from notebook>=4.4.1->widgetsnbextension~=3.5.0->ipywidgets>=7.0.0->pydeck>=0.1.dev5->streamlit) (1.8.0)\n",
      "Requirement already satisfied: nbconvert in /usr/local/lib/python3.7/dist-packages (from notebook>=4.4.1->widgetsnbextension~=3.5.0->ipywidgets>=7.0.0->pydeck>=0.1.dev5->streamlit) (5.6.1)\n",
      "Requirement already satisfied: bleach in /usr/local/lib/python3.7/dist-packages (from nbconvert->notebook>=4.4.1->widgetsnbextension~=3.5.0->ipywidgets>=7.0.0->pydeck>=0.1.dev5->streamlit) (4.0.0)\n",
      "Requirement already satisfied: testpath in /usr/local/lib/python3.7/dist-packages (from nbconvert->notebook>=4.4.1->widgetsnbextension~=3.5.0->ipywidgets>=7.0.0->pydeck>=0.1.dev5->streamlit) (0.5.0)\n",
      "Requirement already satisfied: mistune<2,>=0.8.1 in /usr/local/lib/python3.7/dist-packages (from nbconvert->notebook>=4.4.1->widgetsnbextension~=3.5.0->ipywidgets>=7.0.0->pydeck>=0.1.dev5->streamlit) (0.8.4)\n",
      "Requirement already satisfied: defusedxml in /usr/local/lib/python3.7/dist-packages (from nbconvert->notebook>=4.4.1->widgetsnbextension~=3.5.0->ipywidgets>=7.0.0->pydeck>=0.1.dev5->streamlit) (0.7.1)\n",
      "Requirement already satisfied: pandocfilters>=1.4.1 in /usr/local/lib/python3.7/dist-packages (from nbconvert->notebook>=4.4.1->widgetsnbextension~=3.5.0->ipywidgets>=7.0.0->pydeck>=0.1.dev5->streamlit) (1.4.3)\n",
      "Requirement already satisfied: webencodings in /usr/local/lib/python3.7/dist-packages (from bleach->nbconvert->notebook>=4.4.1->widgetsnbextension~=3.5.0->ipywidgets>=7.0.0->pydeck>=0.1.dev5->streamlit) (0.5.1)\n",
      "Requirement already satisfied: pyparsing>=2.0.2 in /usr/local/lib/python3.7/dist-packages (from packaging->streamlit) (2.4.7)\n",
      "Requirement already satisfied: idna<3,>=2.5 in /usr/local/lib/python3.7/dist-packages (from requests->streamlit) (2.10)\n",
      "Requirement already satisfied: certifi>=2017.4.17 in /usr/local/lib/python3.7/dist-packages (from requests->streamlit) (2021.5.30)\n",
      "Requirement already satisfied: chardet<4,>=3.0.2 in /usr/local/lib/python3.7/dist-packages (from requests->streamlit) (3.0.4)\n",
      "Requirement already satisfied: urllib3!=1.25.0,!=1.25.1,<1.26,>=1.21.1 in /usr/local/lib/python3.7/dist-packages (from requests->streamlit) (1.24.3)\n",
      "Building wheels for collected packages: blinker\n",
      "  Building wheel for blinker (setup.py) ... \u001b[?25l\u001b[?25hdone\n",
      "  Created wheel for blinker: filename=blinker-1.4-py3-none-any.whl size=13478 sha256=43577ddf4872ab1dd2366272b829f20fdff6786b87aeb0f7193a0b088675f408\n",
      "  Stored in directory: /root/.cache/pip/wheels/22/f5/18/df711b66eb25b21325c132757d4314db9ac5e8dabeaf196eab\n",
      "Successfully built blinker\n",
      "Installing collected packages: prompt-toolkit, ipython, ipykernel, smmap, gitdb, watchdog, validators, pydeck, gitpython, blinker, base58, streamlit\n",
      "  Attempting uninstall: prompt-toolkit\n",
      "    Found existing installation: prompt-toolkit 1.0.18\n",
      "    Uninstalling prompt-toolkit-1.0.18:\n",
      "      Successfully uninstalled prompt-toolkit-1.0.18\n",
      "  Attempting uninstall: ipython\n",
      "    Found existing installation: ipython 5.5.0\n",
      "    Uninstalling ipython-5.5.0:\n",
      "      Successfully uninstalled ipython-5.5.0\n",
      "  Attempting uninstall: ipykernel\n",
      "    Found existing installation: ipykernel 4.10.1\n",
      "    Uninstalling ipykernel-4.10.1:\n",
      "      Successfully uninstalled ipykernel-4.10.1\n",
      "\u001b[31mERROR: pip's dependency resolver does not currently take into account all the packages that are installed. This behaviour is the source of the following dependency conflicts.\n",
      "jupyter-console 5.2.0 requires prompt-toolkit<2.0.0,>=1.0.0, but you have prompt-toolkit 3.0.20 which is incompatible.\n",
      "google-colab 1.0.0 requires ipykernel~=4.10, but you have ipykernel 6.3.1 which is incompatible.\n",
      "google-colab 1.0.0 requires ipython~=5.5.0, but you have ipython 7.27.0 which is incompatible.\u001b[0m\n",
      "Successfully installed base58-2.1.0 blinker-1.4 gitdb-4.0.7 gitpython-3.1.18 ipykernel-6.3.1 ipython-7.27.0 prompt-toolkit-3.0.20 pydeck-0.7.0 smmap-4.0.0 streamlit-0.88.0 validators-0.18.2 watchdog-2.1.5\n"
     ]
    },
    {
     "data": {
      "application/vnd.colab-display-data+json": {
       "pip_warning": {
        "packages": [
         "IPython",
         "ipykernel",
         "prompt_toolkit"
        ]
       }
      }
     },
     "metadata": {},
     "output_type": "display_data"
    }
   ],
   "source": [
    "!pip install streamlit"
   ]
  },
  {
   "cell_type": "code",
   "execution_count": 3,
   "metadata": {
    "colab": {
     "base_uri": "https://localhost:8080/"
    },
    "executionInfo": {
     "elapsed": 4387,
     "status": "ok",
     "timestamp": 1630973844290,
     "user": {
      "displayName": "Craig Lynch",
      "photoUrl": "",
      "userId": "01836255586579545796"
     },
     "user_tz": 360
    },
    "id": "2KH0Qt0px43d",
    "outputId": "68c7223b-3d6a-4e0c-9d07-fd9c3810d393"
   },
   "outputs": [
    {
     "name": "stdout",
     "output_type": "stream",
     "text": [
      "Collecting pyngrok\n",
      "  Downloading pyngrok-5.1.0.tar.gz (745 kB)\n",
      "\u001b[?25l\r",
      "\u001b[K     |▍                               | 10 kB 26.1 MB/s eta 0:00:01\r",
      "\u001b[K     |▉                               | 20 kB 29.3 MB/s eta 0:00:01\r",
      "\u001b[K     |█▎                              | 30 kB 18.4 MB/s eta 0:00:01\r",
      "\u001b[K     |█▊                              | 40 kB 15.9 MB/s eta 0:00:01\r",
      "\u001b[K     |██▏                             | 51 kB 7.1 MB/s eta 0:00:01\r",
      "\u001b[K     |██▋                             | 61 kB 8.3 MB/s eta 0:00:01\r",
      "\u001b[K     |███                             | 71 kB 7.9 MB/s eta 0:00:01\r",
      "\u001b[K     |███▌                            | 81 kB 8.8 MB/s eta 0:00:01\r",
      "\u001b[K     |████                            | 92 kB 9.2 MB/s eta 0:00:01\r",
      "\u001b[K     |████▍                           | 102 kB 7.0 MB/s eta 0:00:01\r",
      "\u001b[K     |████▉                           | 112 kB 7.0 MB/s eta 0:00:01\r",
      "\u001b[K     |█████▎                          | 122 kB 7.0 MB/s eta 0:00:01\r",
      "\u001b[K     |█████▊                          | 133 kB 7.0 MB/s eta 0:00:01\r",
      "\u001b[K     |██████▏                         | 143 kB 7.0 MB/s eta 0:00:01\r",
      "\u001b[K     |██████▋                         | 153 kB 7.0 MB/s eta 0:00:01\r",
      "\u001b[K     |███████                         | 163 kB 7.0 MB/s eta 0:00:01\r",
      "\u001b[K     |███████▌                        | 174 kB 7.0 MB/s eta 0:00:01\r",
      "\u001b[K     |████████                        | 184 kB 7.0 MB/s eta 0:00:01\r",
      "\u001b[K     |████████▍                       | 194 kB 7.0 MB/s eta 0:00:01\r",
      "\u001b[K     |████████▉                       | 204 kB 7.0 MB/s eta 0:00:01\r",
      "\u001b[K     |█████████▎                      | 215 kB 7.0 MB/s eta 0:00:01\r",
      "\u001b[K     |█████████▊                      | 225 kB 7.0 MB/s eta 0:00:01\r",
      "\u001b[K     |██████████▏                     | 235 kB 7.0 MB/s eta 0:00:01\r",
      "\u001b[K     |██████████▌                     | 245 kB 7.0 MB/s eta 0:00:01\r",
      "\u001b[K     |███████████                     | 256 kB 7.0 MB/s eta 0:00:01\r",
      "\u001b[K     |███████████▍                    | 266 kB 7.0 MB/s eta 0:00:01\r",
      "\u001b[K     |███████████▉                    | 276 kB 7.0 MB/s eta 0:00:01\r",
      "\u001b[K     |████████████▎                   | 286 kB 7.0 MB/s eta 0:00:01\r",
      "\u001b[K     |████████████▊                   | 296 kB 7.0 MB/s eta 0:00:01\r",
      "\u001b[K     |█████████████▏                  | 307 kB 7.0 MB/s eta 0:00:01\r",
      "\u001b[K     |█████████████▋                  | 317 kB 7.0 MB/s eta 0:00:01\r",
      "\u001b[K     |██████████████                  | 327 kB 7.0 MB/s eta 0:00:01\r",
      "\u001b[K     |██████████████▌                 | 337 kB 7.0 MB/s eta 0:00:01\r",
      "\u001b[K     |███████████████                 | 348 kB 7.0 MB/s eta 0:00:01\r",
      "\u001b[K     |███████████████▍                | 358 kB 7.0 MB/s eta 0:00:01\r",
      "\u001b[K     |███████████████▉                | 368 kB 7.0 MB/s eta 0:00:01\r",
      "\u001b[K     |████████████████▎               | 378 kB 7.0 MB/s eta 0:00:01\r",
      "\u001b[K     |████████████████▊               | 389 kB 7.0 MB/s eta 0:00:01\r",
      "\u001b[K     |█████████████████▏              | 399 kB 7.0 MB/s eta 0:00:01\r",
      "\u001b[K     |█████████████████▋              | 409 kB 7.0 MB/s eta 0:00:01\r",
      "\u001b[K     |██████████████████              | 419 kB 7.0 MB/s eta 0:00:01\r",
      "\u001b[K     |██████████████████▌             | 430 kB 7.0 MB/s eta 0:00:01\r",
      "\u001b[K     |███████████████████             | 440 kB 7.0 MB/s eta 0:00:01\r",
      "\u001b[K     |███████████████████▍            | 450 kB 7.0 MB/s eta 0:00:01\r",
      "\u001b[K     |███████████████████▉            | 460 kB 7.0 MB/s eta 0:00:01\r",
      "\u001b[K     |████████████████████▎           | 471 kB 7.0 MB/s eta 0:00:01\r",
      "\u001b[K     |████████████████████▋           | 481 kB 7.0 MB/s eta 0:00:01\r",
      "\u001b[K     |█████████████████████           | 491 kB 7.0 MB/s eta 0:00:01\r",
      "\u001b[K     |█████████████████████▌          | 501 kB 7.0 MB/s eta 0:00:01\r",
      "\u001b[K     |██████████████████████          | 512 kB 7.0 MB/s eta 0:00:01\r",
      "\u001b[K     |██████████████████████▍         | 522 kB 7.0 MB/s eta 0:00:01\r",
      "\u001b[K     |██████████████████████▉         | 532 kB 7.0 MB/s eta 0:00:01\r",
      "\u001b[K     |███████████████████████▎        | 542 kB 7.0 MB/s eta 0:00:01\r",
      "\u001b[K     |███████████████████████▊        | 552 kB 7.0 MB/s eta 0:00:01\r",
      "\u001b[K     |████████████████████████▏       | 563 kB 7.0 MB/s eta 0:00:01\r",
      "\u001b[K     |████████████████████████▋       | 573 kB 7.0 MB/s eta 0:00:01\r",
      "\u001b[K     |█████████████████████████       | 583 kB 7.0 MB/s eta 0:00:01\r",
      "\u001b[K     |█████████████████████████▌      | 593 kB 7.0 MB/s eta 0:00:01\r",
      "\u001b[K     |██████████████████████████      | 604 kB 7.0 MB/s eta 0:00:01\r",
      "\u001b[K     |██████████████████████████▍     | 614 kB 7.0 MB/s eta 0:00:01\r",
      "\u001b[K     |██████████████████████████▉     | 624 kB 7.0 MB/s eta 0:00:01\r",
      "\u001b[K     |███████████████████████████▎    | 634 kB 7.0 MB/s eta 0:00:01\r",
      "\u001b[K     |███████████████████████████▊    | 645 kB 7.0 MB/s eta 0:00:01\r",
      "\u001b[K     |████████████████████████████▏   | 655 kB 7.0 MB/s eta 0:00:01\r",
      "\u001b[K     |████████████████████████████▋   | 665 kB 7.0 MB/s eta 0:00:01\r",
      "\u001b[K     |█████████████████████████████   | 675 kB 7.0 MB/s eta 0:00:01\r",
      "\u001b[K     |█████████████████████████████▌  | 686 kB 7.0 MB/s eta 0:00:01\r",
      "\u001b[K     |██████████████████████████████  | 696 kB 7.0 MB/s eta 0:00:01\r",
      "\u001b[K     |██████████████████████████████▍ | 706 kB 7.0 MB/s eta 0:00:01\r",
      "\u001b[K     |██████████████████████████████▊ | 716 kB 7.0 MB/s eta 0:00:01\r",
      "\u001b[K     |███████████████████████████████▏| 727 kB 7.0 MB/s eta 0:00:01\r",
      "\u001b[K     |███████████████████████████████▋| 737 kB 7.0 MB/s eta 0:00:01\r",
      "\u001b[K     |████████████████████████████████| 745 kB 7.0 MB/s \n",
      "\u001b[?25hRequirement already satisfied: PyYAML in /usr/local/lib/python3.7/dist-packages (from pyngrok) (3.13)\n",
      "Building wheels for collected packages: pyngrok\n",
      "  Building wheel for pyngrok (setup.py) ... \u001b[?25l\u001b[?25hdone\n",
      "  Created wheel for pyngrok: filename=pyngrok-5.1.0-py3-none-any.whl size=19006 sha256=8f82228880527e33428c3c2ba57005e2055a6b7fb7f4371f5d97f030837e0022\n",
      "  Stored in directory: /root/.cache/pip/wheels/bf/e6/af/ccf6598ecefecd44104069371795cb9b3afbcd16987f6ccfb3\n",
      "Successfully built pyngrok\n",
      "Installing collected packages: pyngrok\n",
      "Successfully installed pyngrok-5.1.0\n"
     ]
    }
   ],
   "source": [
    "!pip install pyngrok"
   ]
  },
  {
   "cell_type": "code",
   "execution_count": 4,
   "metadata": {
    "colab": {
     "base_uri": "https://localhost:8080/"
    },
    "executionInfo": {
     "elapsed": 53261,
     "status": "ok",
     "timestamp": 1630973897545,
     "user": {
      "displayName": "Craig Lynch",
      "photoUrl": "",
      "userId": "01836255586579545796"
     },
     "user_tz": 360
    },
    "id": "brV5OvPN0mMz",
    "outputId": "de32f2e7-bcdd-489e-d9d7-3b56ccfa527b"
   },
   "outputs": [
    {
     "name": "stdout",
     "output_type": "stream",
     "text": [
      "Mounted at /content/drive\n"
     ]
    }
   ],
   "source": [
    "from google.colab import drive\n",
    "drive.mount('/content/drive')"
   ]
  },
  {
   "cell_type": "code",
   "execution_count": 5,
   "metadata": {
    "colab": {
     "base_uri": "https://localhost:8080/"
    },
    "executionInfo": {
     "elapsed": 596230,
     "status": "ok",
     "timestamp": 1630974493771,
     "user": {
      "displayName": "Craig Lynch",
      "photoUrl": "",
      "userId": "01836255586579545796"
     },
     "user_tz": 360
    },
    "id": "HKFczvgt0HSf",
    "outputId": "258d273e-117d-459f-b1e2-ba42654bbd28"
   },
   "outputs": [
    {
     "name": "stdout",
     "output_type": "stream",
     "text": [
      "[nltk_data] Downloading package stopwords to /root/nltk_data...\n",
      "[nltk_data]   Unzipping corpora/stopwords.zip.\n",
      "[nltk_data] Downloading package punkt to /root/nltk_data...\n",
      "[nltk_data]   Unzipping tokenizers/punkt.zip.\n",
      "[nltk_data] Downloading package wordnet to /root/nltk_data...\n",
      "[nltk_data]   Unzipping corpora/wordnet.zip.\n",
      "[nltk_data] Downloading package averaged_perceptron_tagger to\n",
      "[nltk_data]     /root/nltk_data...\n",
      "[nltk_data]   Unzipping taggers/averaged_perceptron_tagger.zip.\n",
      "The shape of the matrix is: (1709, 500)\n",
      "<class 'pandas.core.series.Series'>\n",
      "<class 'numpy.ndarray'>\n"
     ]
    }
   ],
   "source": [
    "\n",
    "import numpy as np\n",
    "import pandas as pd\n",
    "import matplotlib.pyplot as plt\n",
    "import string\n",
    "from nltk.corpus import stopwords\n",
    "from wordcloud import WordCloud, STOPWORDS\n",
    "import re\n",
    "from nltk import word_tokenize, pos_tag\n",
    "from nltk.stem import WordNetLemmatizer\n",
    "from sklearn.feature_extraction.text import TfidfVectorizer\n",
    "import nltk\n",
    "import warnings\n",
    "warnings.filterwarnings('ignore')\n",
    "from sklearn.metrics.pairwise import linear_kernel\n",
    "import random\n",
    "\n",
    "nltk.download('stopwords')\n",
    "nltk.download('punkt')\n",
    "nltk.download('wordnet')\n",
    "\n",
    "data_read = pd.read_csv('/content/drive/My Drive/LHL_Final_Project/Written_Reviews/Beer_Recommendations_EDA_V01.csv')\n",
    "df = data_read.copy()\n",
    "df = df.sample(frac=0.10, random_state=1)\n",
    "\n",
    "# Remove Punctuation\n",
    "def remove_punctuations(text):\n",
    "    for punctuation in string.punctuation:\n",
    "        text = text.replace(punctuation, '')\n",
    "    return text\n",
    "df['text'] = df['text'].apply(remove_punctuations)\n",
    "\n",
    "# Make Strings Lowercase\n",
    "df['text'] = df['text'].str.lower()\n",
    "\n",
    "# Remove Digits\n",
    "df['text'] = df['text'].str.replace('\\d+', '')\n",
    "\n",
    "#define lemmatizer\n",
    "lemmatizer = WordNetLemmatizer()\n",
    "\n",
    "#remove stopwords\n",
    "stop = stopwords.words('english')\n",
    "df['without_stopwords']  = df['text'].apply(lambda x: ' '.join([word for word in x.split() if word not in (stop)]))\n",
    "\n",
    "#lemmatize/tokenize/make everything lowercase/remove punctuation\n",
    "df['lemmatized_text'] = df['without_stopwords'].apply(\\\n",
    "lambda x : ' '.join([lemmatizer.lemmatize(word.lower()) \\\n",
    "    for word in word_tokenize(re.sub(r'([^\\s\\w]|_)+', ' ', str(x)))]))\n",
    "\n",
    "#remove digitsvb\n",
    "df['lemmatized_text'] = df['lemmatized_text'].str.replace('\\d+', '')\n",
    "\n",
    "#add some more stopwords\n",
    "newStopWords = ['beer', 'one', 'would', 'get', 'come', 'also', 'oz', 'could']\n",
    "stop.extend(newStopWords)\n",
    "df['lemmatized_text'] = df['lemmatized_text'].apply(lambda x: ' '.join([word for word in x.split() if word not in (stop)]))\n",
    "\n",
    "df['lemmatized_text'] = df['lemmatized_text'].astype('str')\n",
    "\n",
    "\n",
    "# add some more stopwords\n",
    "newStopWords = ['lager', 'porter', 'stout', 'brewery', 'ale', 'apa', 'ipa', 'ipas', 'belgian', 'red', 'brown', 'cream', 'black', 'amber',\n",
    "               'golden', 'much', 'year', 'worth', 'english', 'german', 'american', 'stuff', 'pilsner', 'old', 'barleywine',\n",
    "               'ri', 'imperial', 'non', 'dipa', 'iipa', 'dipas', 'pils', 'pilsener', 'sam', 'irish', 'brewpub', 'st',\n",
    "               'adam', 'ml', 'tripel', 'quad', 'pa', 'ibu', 'ibus', 'series', 'bell', 'belgium', 'boston', 'city', 'coors',\n",
    "               'dead', 'dfh', 'dog', 'dogfish', 'founder', 'im', 'imo', 'lagunitas', 'left', 'nevada', 'rogue', 'samuel', 'sierra',\n",
    "               'southern', 'pint']\n",
    "stop.extend(newStopWords)\n",
    "df['lemmatized_text'] = df['lemmatized_text'].apply(lambda x: ' '.join([word for word in x.split() if word not in (stop)]))\n",
    "\n",
    "nltk.download('averaged_perceptron_tagger')\n",
    "\n",
    "df['lemmatized_text'] = df['lemmatized_text'].astype('str')\n",
    "\n",
    "def nouns_adj(text):\n",
    "    #Given a string of text, tokenize the text and pull out only the nouns and adjectives.\n",
    "    is_noun_adj = lambda pos: pos[:2] == 'NN' or pos[:2] == 'JJ'\n",
    "    tokenized = word_tokenize(text)\n",
    "    nouns_adj = [word for (word, pos) in pos_tag(tokenized) if is_noun_adj(pos)]\n",
    "    return ' '.join(nouns_adj)\n",
    "\n",
    "df['adjectives/nouns'] = df['lemmatized_text'].apply(nouns_adj)\n",
    "df = df.dropna()\n",
    "\n",
    "#create new dataframe\n",
    "beer_text = df[['beer_id', 'beer_name', 'style', 'brewery_name', 'Name', 'lemmatized_text', 'adjectives/nouns']]\n",
    "\n",
    "#drop null values\n",
    "beer_text = df.dropna(axis=0, subset=['adjectives/nouns'])\n",
    "\n",
    "#group by beer, think of each beer as a \"document\"\n",
    "grouped_beer_text = beer_text.groupby(['beer_id', 'brewery_name', 'beer_name', 'Name', 'style'])['adjectives/nouns'].agg(lambda col: ''.join(col))\n",
    "\n",
    "#df\n",
    "beer_text = pd.DataFrame(grouped_beer_text)\n",
    "beer_text = beer_text.reset_index()\n",
    "\n",
    "# using lemmatized_text, create the corpus\n",
    "corpus = beer_text['adjectives/nouns']\n",
    "\n",
    "# FEATURE EXTRACTION via tfidf vectorizer\n",
    "tfidf_model = TfidfVectorizer(max_features=500,\n",
    "                             max_df=0.25,\n",
    "                             min_df=0.01)\n",
    "\n",
    "tfidf_matrix = tfidf_model.fit_transform(corpus).todense()\n",
    "print('The shape of the matrix is:', tfidf_matrix.shape)\n",
    "tfidf_df = pd.DataFrame(tfidf_matrix)\n",
    "tfidf_df.columns = sorted(tfidf_model.vocabulary_)\n",
    "\n",
    "# Calculate the cosine similarity of the matrix\n",
    "cosine_sim = linear_kernel(tfidf_matrix, tfidf_matrix)\n",
    "\n",
    "# Construct a reverse mapping of indices and beer names, and drop duplicate names, if any\n",
    "indices = pd.Series(beer_text.index, index=beer_text['Name']).drop_duplicates()\n",
    "\n",
    "print(type(indices))\n",
    "print(type(cosine_sim))\n",
    "\n"
   ]
  },
  {
   "cell_type": "code",
   "execution_count": 6,
   "metadata": {
    "executionInfo": {
     "elapsed": 11,
     "status": "ok",
     "timestamp": 1630974493772,
     "user": {
      "displayName": "Craig Lynch",
      "photoUrl": "",
      "userId": "01836255586579545796"
     },
     "user_tz": 360
    },
    "id": "zhBhi4MfDZO1"
   },
   "outputs": [],
   "source": [
    "import pickle\n",
    "indices.to_pickle('indices')\n",
    "np.save(\"cosine_sim.npy\", cosine_sim)"
   ]
  },
  {
   "cell_type": "code",
   "execution_count": 7,
   "metadata": {
    "executionInfo": {
     "elapsed": 2129,
     "status": "ok",
     "timestamp": 1630974495894,
     "user": {
      "displayName": "Craig Lynch",
      "photoUrl": "",
      "userId": "01836255586579545796"
     },
     "user_tz": 360
    },
    "id": "UtxM_dOD8-JY"
   },
   "outputs": [],
   "source": [
    "beer_text.to_csv('/content/drive/My Drive/LHL_Final_Project/Written_Reviews/beer_text.csv', encoding='utf-8', index=False)"
   ]
  },
  {
   "cell_type": "code",
   "execution_count": 8,
   "metadata": {
    "colab": {
     "base_uri": "https://localhost:8080/"
    },
    "executionInfo": {
     "elapsed": 21,
     "status": "ok",
     "timestamp": 1630974495899,
     "user": {
      "displayName": "Craig Lynch",
      "photoUrl": "",
      "userId": "01836255586579545796"
     },
     "user_tz": 360
    },
    "id": "GrKCpCmMx_6u",
    "outputId": "fde61262-f795-43a7-cca1-7411e70abae9"
   },
   "outputs": [
    {
     "name": "stdout",
     "output_type": "stream",
     "text": [
      "Writing content.py\n"
     ]
    }
   ],
   "source": [
    "%%writefile content.py\n",
    "import numpy as np\n",
    "import pandas as pd\n",
    "\n",
    "\n",
    "\n",
    "indices = pd.read_pickle('indices')\n",
    "cosine_sim = np.load(\"cosine_sim.npy\")\n",
    "beer_text = pd.read_csv('/content/drive/My Drive/LHL_Final_Project/Written_Reviews/beer_text.csv')\n",
    "\n",
    "import streamlit as st\n",
    "st.set_page_config(layout=\"wide\") \n",
    "st.title('Beer Recommendation App - Content Recommendation')\n",
    "st.write('This app was built to help you expand your beer horizons')\n",
    "st.write('Data obtained from https://www.kaggle.com/ehallmar/beers-breweries-and-beer-reviews')\n",
    "\n",
    "\n",
    "def content_recommender(title, cosine_sim=cosine_sim, df=beer_text, indices=indices):\n",
    "    # Obtain the index of the beer that matches the name\n",
    "    idx = indices[title]\n",
    "    sim_scores = list(enumerate(cosine_sim[idx]))\n",
    "    sim_scores = sorted(sim_scores, key=lambda x: x[1], reverse=True)\n",
    "    sim_scores = sim_scores[1:11]\n",
    "    beer_indices = [i[0] for i in sim_scores]\n",
    "\n",
    "    \n",
    "    return beer_text[['style', 'brewery_name', 'beer_name']].iloc[beer_indices]\n",
    "\n",
    "st.write('What are you in the mood for?')\n",
    "\n",
    "want = st.selectbox('Select', ['I want a beer for summer, hanging with friends on patios, and barbecueing.',\n",
    "        'I love the bitter flavour of black coffee or a strong grapefruit.',\n",
    "        'I love coffee-crisp, purposely burnt marshmallows, and other bold rich flavours.',\n",
    "        'I love dried fruit, Werther’s Originals, bold flavours, and just a pinch of sweet.',\n",
    "        'I love scotch, campfires, and smoked meats.',\n",
    "        \"I love a glass of orange juice and I never says 'when' when the waiter is adding pepper to my meal.\",\n",
    "        'I drink green tea instead of coffee, love cucumber in my water, and am semi-addicted to sour candies'])\n",
    "if 'barbecue' in want:\n",
    "  test_beer = 'Molson Coors Canada Molson Canadian Lager'\n",
    "elif 'marshmallows' in want:\n",
    "  test_beer = 'Guinness Ltd Guinness Extra Stout Original'\n",
    "elif 'chugging' in want:\n",
    "  test_beer = 'Coors Brewing Company MolsonCoors Blue Moon Belgian White'\n",
    "elif 'grapefruit' in want:\n",
    "  test_beer = 'Dogfish Head Craft Brewery 90 Minute IPA'\n",
    "elif 'Original' in want:\n",
    "  test_beer = 'Samuel Smith Old Brewery Tadcaster Nut Brown Ale'\n",
    "elif 'smoked' in want:\n",
    "  test_beer = 'Alaskan Brewing Co Alaskan Smoked Porter'\n",
    "elif 'cucumber' in want:\n",
    "  test_beer = 'Westbrook Brewing Co Gose'\n",
    "else:\n",
    "  test_beer = \"I'm not a beer person\"\n",
    "\n",
    "\n",
    "st.write(content_recommender(test_beer))"
   ]
  },
  {
   "cell_type": "code",
   "execution_count": 9,
   "metadata": {
    "colab": {
     "base_uri": "https://localhost:8080/"
    },
    "executionInfo": {
     "elapsed": 640,
     "status": "ok",
     "timestamp": 1630974496527,
     "user": {
      "displayName": "Craig Lynch",
      "photoUrl": "",
      "userId": "01836255586579545796"
     },
     "user_tz": 360
    },
    "id": "-Mzjh4z-zIDW",
    "outputId": "62633252-0de9-4287-a7f9-d4f310212751"
   },
   "outputs": [
    {
     "name": "stdout",
     "output_type": "stream",
     "text": [
      "content.py  cosine_sim.npy  drive  indices  sample_data\n"
     ]
    }
   ],
   "source": [
    "!ls"
   ]
  },
  {
   "cell_type": "markdown",
   "metadata": {},
   "source": [
    "# Insert ngrok authtoken"
   ]
  },
  {
   "cell_type": "code",
   "execution_count": 10,
   "metadata": {
    "colab": {
     "base_uri": "https://localhost:8080/"
    },
    "executionInfo": {
     "elapsed": 5095,
     "status": "ok",
     "timestamp": 1630974501614,
     "user": {
      "displayName": "Craig Lynch",
      "photoUrl": "",
      "userId": "01836255586579545796"
     },
     "user_tz": 360
    },
    "id": "6-gFgVQvzLEu",
    "outputId": "eb8f54e2-0725-4293-dc1e-daba3f05ef60"
   },
   "outputs": [
    {
     "name": "stdout",
     "output_type": "stream",
     "text": [
      "Authtoken saved to configuration file: /root/.ngrok2/ngrok.yml\n"
     ]
    }
   ],
   "source": [
    "!ngrok authtoken XXXXXXXXXXXXXXXXXXXXXXXXXXX"
   ]
  },
  {
   "cell_type": "code",
   "execution_count": 11,
   "metadata": {
    "executionInfo": {
     "elapsed": 15,
     "status": "ok",
     "timestamp": 1630974501615,
     "user": {
      "displayName": "Craig Lynch",
      "photoUrl": "",
      "userId": "01836255586579545796"
     },
     "user_tz": 360
    },
    "id": "kI34GffTzToE"
   },
   "outputs": [],
   "source": [
    "from pyngrok import ngrok"
   ]
  },
  {
   "cell_type": "code",
   "execution_count": 12,
   "metadata": {
    "executionInfo": {
     "elapsed": 250,
     "status": "ok",
     "timestamp": 1630974501853,
     "user": {
      "displayName": "Craig Lynch",
      "photoUrl": "",
      "userId": "01836255586579545796"
     },
     "user_tz": 360
    },
    "id": "ENp3KcvGg-zT"
   },
   "outputs": [],
   "source": [
    "!streamlit run --server.port 80 content.py&>/dev/null&"
   ]
  },
  {
   "cell_type": "code",
   "execution_count": 15,
   "metadata": {
    "executionInfo": {
     "elapsed": 695,
     "status": "ok",
     "timestamp": 1630974973412,
     "user": {
      "displayName": "Craig Lynch",
      "photoUrl": "",
      "userId": "01836255586579545796"
     },
     "user_tz": 360
    },
    "id": "gIvORj6ezbUa"
   },
   "outputs": [],
   "source": [
    "#publ_url = ngrok.connect(port='8501')\n",
    "publ_url = ngrok.connect(port='80')"
   ]
  },
  {
   "cell_type": "code",
   "execution_count": 16,
   "metadata": {
    "colab": {
     "base_uri": "https://localhost:8080/"
    },
    "executionInfo": {
     "elapsed": 177,
     "status": "ok",
     "timestamp": 1630974976569,
     "user": {
      "displayName": "Craig Lynch",
      "photoUrl": "",
      "userId": "01836255586579545796"
     },
     "user_tz": 360
    },
    "id": "1mASwnM00KDg",
    "outputId": "018fd249-43b2-4e4a-d48d-3cbaa62d9a51"
   },
   "outputs": [
    {
     "data": {
      "text/plain": [
       "<NgrokTunnel: \"http://4a1b-34-125-70-129.ngrok.io\" -> \"http://localhost:80\">"
      ]
     },
     "execution_count": 16,
     "metadata": {},
     "output_type": "execute_result"
    }
   ],
   "source": [
    "publ_url "
   ]
  },
  {
   "cell_type": "code",
   "execution_count": null,
   "metadata": {
    "executionInfo": {
     "elapsed": 359,
     "status": "aborted",
     "timestamp": 1630974502727,
     "user": {
      "displayName": "Craig Lynch",
      "photoUrl": "",
      "userId": "01836255586579545796"
     },
     "user_tz": 360
    },
    "id": "5fEbg5f2gq84"
   },
   "outputs": [],
   "source": []
  },
  {
   "cell_type": "code",
   "execution_count": null,
   "metadata": {
    "executionInfo": {
     "elapsed": 360,
     "status": "aborted",
     "timestamp": 1630974502729,
     "user": {
      "displayName": "Craig Lynch",
      "photoUrl": "",
      "userId": "01836255586579545796"
     },
     "user_tz": 360
    },
    "id": "ZBXosQ3ygrHb"
   },
   "outputs": [],
   "source": []
  },
  {
   "cell_type": "code",
   "execution_count": null,
   "metadata": {
    "executionInfo": {
     "elapsed": 361,
     "status": "aborted",
     "timestamp": 1630974502730,
     "user": {
      "displayName": "Craig Lynch",
      "photoUrl": "",
      "userId": "01836255586579545796"
     },
     "user_tz": 360
    },
    "id": "4GsYAfsYgrLF"
   },
   "outputs": [],
   "source": []
  },
  {
   "cell_type": "code",
   "execution_count": null,
   "metadata": {
    "executionInfo": {
     "elapsed": 168,
     "status": "aborted",
     "timestamp": 1630974502731,
     "user": {
      "displayName": "Craig Lynch",
      "photoUrl": "",
      "userId": "01836255586579545796"
     },
     "user_tz": 360
    },
    "id": "FspgR0imgrNo"
   },
   "outputs": [],
   "source": []
  },
  {
   "cell_type": "code",
   "execution_count": null,
   "metadata": {
    "executionInfo": {
     "elapsed": 167,
     "status": "aborted",
     "timestamp": 1630974502731,
     "user": {
      "displayName": "Craig Lynch",
      "photoUrl": "",
      "userId": "01836255586579545796"
     },
     "user_tz": 360
    },
    "id": "sARJNHCigrQU"
   },
   "outputs": [],
   "source": []
  },
  {
   "cell_type": "code",
   "execution_count": null,
   "metadata": {
    "executionInfo": {
     "elapsed": 168,
     "status": "aborted",
     "timestamp": 1630974502732,
     "user": {
      "displayName": "Craig Lynch",
      "photoUrl": "",
      "userId": "01836255586579545796"
     },
     "user_tz": 360
    },
    "id": "wyxA-cG_grTH"
   },
   "outputs": [],
   "source": []
  },
  {
   "cell_type": "code",
   "execution_count": 17,
   "metadata": {
    "executionInfo": {
     "elapsed": 158,
     "status": "ok",
     "timestamp": 1630975271106,
     "user": {
      "displayName": "Craig Lynch",
      "photoUrl": "",
      "userId": "01836255586579545796"
     },
     "user_tz": 360
    },
    "id": "BARdpOyegKca"
   },
   "outputs": [],
   "source": [
    "ngrok.kill()"
   ]
  },
  {
   "cell_type": "code",
   "execution_count": null,
   "metadata": {
    "executionInfo": {
     "elapsed": 169,
     "status": "aborted",
     "timestamp": 1630974502734,
     "user": {
      "displayName": "Craig Lynch",
      "photoUrl": "",
      "userId": "01836255586579545796"
     },
     "user_tz": 360
    },
    "id": "CLRnhQvcPTT9"
   },
   "outputs": [],
   "source": []
  },
  {
   "cell_type": "code",
   "execution_count": null,
   "metadata": {
    "executionInfo": {
     "elapsed": 168,
     "status": "aborted",
     "timestamp": 1630974502734,
     "user": {
      "displayName": "Craig Lynch",
      "photoUrl": "",
      "userId": "01836255586579545796"
     },
     "user_tz": 360
    },
    "id": "kJQU1Zy0gXMr"
   },
   "outputs": [],
   "source": []
  }
 ],
 "metadata": {
  "colab": {
   "authorship_tag": "ABX9TyOLq9UOM3lCka8WuRUJP/NQ",
   "collapsed_sections": [],
   "name": "Deploy_ContentRec_Beer_Recommender_Streamlit_V02.ipynb",
   "provenance": [
    {
     "file_id": "1AQcG59Lpj7xdQU_8EeU0C22Ag8gsxx3O",
     "timestamp": 1630691130749
    }
   ]
  },
  "kernelspec": {
   "display_name": "Python 3",
   "language": "python",
   "name": "python3"
  },
  "language_info": {
   "codemirror_mode": {
    "name": "ipython",
    "version": 3
   },
   "file_extension": ".py",
   "mimetype": "text/x-python",
   "name": "python",
   "nbconvert_exporter": "python",
   "pygments_lexer": "ipython3",
   "version": "3.8.2"
  }
 },
 "nbformat": 4,
 "nbformat_minor": 1
}
